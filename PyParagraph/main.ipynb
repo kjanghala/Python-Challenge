{
 "cells": [
  {
   "cell_type": "code",
   "execution_count": 1,
   "metadata": {},
   "outputs": [],
   "source": [
    "# import dependencies\n",
    "\n",
    "import pandas as pd\n",
    "import numpy as np\n",
    "import os\n",
    "import re"
   ]
  },
  {
   "cell_type": "markdown",
   "metadata": {},
   "source": [
    "## Paragraph 1"
   ]
  },
  {
   "cell_type": "code",
   "execution_count": 2,
   "metadata": {},
   "outputs": [
    {
     "name": "stdout",
     "output_type": "stream",
     "text": [
      "Gene expression in mammals is regulated by noncoding elements that can affect physiology and disease, yet the functions and target genes of most noncoding elements remain unknown. We present a high-throughput approach that uses clustered regularly interspaced short palindromic repeats (CRISPR) interference (CRISPRi) to discover regulatory elements and identify their target genes. We assess >1 megabase of sequence in the vicinity of two essential transcription factors, MYC and GATA1, and identify nine distal enhancers that control gene expression and cellular proliferation. Quantitative features of chromatin state and chromosome conformation distinguish the seven enhancers that regulate MYC from other elements that do not, suggesting a strategy for predicting enhancerâ€“promoter connectivity. This CRISPRi-based approach can be applied to dissect transcriptional networks and interpret the contributions of noncoding genetic variation to human disease.\n"
     ]
    }
   ],
   "source": [
    "# read file and make passage into variable\n",
    "\n",
    "para1 = os.path.join('raw_data', 'paragraph_1.txt')\n",
    "\n",
    "with open(para1, 'r') as file:\n",
    "    data1 = file.read()\n",
    "    \n",
    "print(data1)"
   ]
  },
  {
   "cell_type": "code",
   "execution_count": 3,
   "metadata": {},
   "outputs": [],
   "source": [
    "# approximate word count\n",
    "\n",
    "word_list = data1.split()\n",
    "word_ct = len(word_list)"
   ]
  },
  {
   "cell_type": "code",
   "execution_count": 4,
   "metadata": {},
   "outputs": [],
   "source": [
    "# approximate sentence count\n",
    "\n",
    "sent_list = re.split(\"(?<=[.!?]) +\", data1)\n",
    "sent_ct = len(sent_list)"
   ]
  },
  {
   "cell_type": "code",
   "execution_count": 5,
   "metadata": {},
   "outputs": [],
   "source": [
    "# average letter count (per word)\n",
    "\n",
    "let_ct = [] \n",
    "\n",
    "for word in word_list:\n",
    "    i = 0\n",
    "    for char in word:\n",
    "        i = i + 1\n",
    "    let_ct.append(i)\n",
    "\n",
    "avg_let = round(sum(let_ct)/word_ct, 1)"
   ]
  },
  {
   "cell_type": "code",
   "execution_count": 6,
   "metadata": {},
   "outputs": [],
   "source": [
    "# average sentence length (in words)\n",
    "\n",
    "avg_sent = word_ct/sent_ct"
   ]
  },
  {
   "cell_type": "code",
   "execution_count": 7,
   "metadata": {},
   "outputs": [
    {
     "name": "stdout",
     "output_type": "stream",
     "text": [
      "Paragraph 1 Analysis\n",
      "-----------------\n",
      "Approximate Word Count: 130\n",
      "Approximate Sentence Count: 5\n",
      "Average Letter Count: 6.4\n",
      "Average Sentence Length: 26.0\n"
     ]
    }
   ],
   "source": [
    "print('Paragraph 1 Analysis')\n",
    "print('-----------------')\n",
    "print('Approximate Word Count:', word_ct)\n",
    "print('Approximate Sentence Count:', sent_ct)\n",
    "print('Average Letter Count:', avg_let)\n",
    "print('Average Sentence Length:', avg_sent)"
   ]
  },
  {
   "cell_type": "code",
   "execution_count": 8,
   "metadata": {},
   "outputs": [],
   "source": [
    "# export analysis in text file\n",
    "\n",
    "file = open('analysis_1.txt', 'w')\n",
    "\n",
    "file.write('Paragraph 1 Analysis\\n')\n",
    "file.write('-----------------\\n')\n",
    "file.write('Approximate Word Count: 130\\n')\n",
    "file.write('Approximate Sentence Count: 5\\n')\n",
    "file.write('Average Letter Count: 6.4\\n')\n",
    "file.write('Average Sentence Length: 26.0\\n')\n",
    "\n",
    "file.close()"
   ]
  },
  {
   "cell_type": "markdown",
   "metadata": {},
   "source": [
    "## Paragraph 2"
   ]
  },
  {
   "cell_type": "code",
   "execution_count": 9,
   "metadata": {},
   "outputs": [
    {
     "name": "stdout",
     "output_type": "stream",
     "text": [
      "When Jackie Chan saw an Oscar at Sylvester Stallone's house 23 years ago, he said that was the moment he decided he wanted one.\n",
      "\n",
      "On Saturday at the annual Governors Awards, the Chinese actor and martial arts star finally received his little gold statuette, an honorary Oscar for his decades of work in film.\n",
      "\n",
      "\"After 56 years in the film industry, making more than 200 films, after so many bones, finally,\" Chan, 62, quipped at the star-studded gala dinner while holding his Oscar.\n",
      "\n",
      "The actor recalled watching the ceremony with his parents and his father always asking him why he didn't have Hollywood's top accolade despite having made so many movies.\n",
      "\n",
      "He praised his hometown Hong Kong for making him \"proud to be Chinese,\" and thanked his fans, saying they were the reason \"I continue to make movies, jumping through windows, kicking and punching, breaking my bones.\"\n",
      "\n",
      "The actor was introduced by his \"Rush Hour\" co-star Chris Tucker, actress Michelle Yeoh and Tom Hanks, who referred to him as \"Jackie 'Chantastic' Chan.\"\n",
      "\n",
      "Hanks said it was especially gratifying to be able to acknowledge Chan's work because martial arts and action comedy films were two genres often overlooked during awards season.\n",
      "\n",
      "The Academy of Motion Pictures Arts and Sciences, hosts of the annual ceremony, also bestowed honorary Oscars on British film editor Anne V. Coates, casting director Lynn Stalmaster and prolific documentarian Frederick Wiseman.\n",
      "\n",
      "The evening was attended by Hollywood's elite, including Denzel Washington, Lupita Nyong'o, Nicole Kidman, Emma Stone, Ryan Reynolds, Amy Adams and Dev Patel.\n",
      "\n",
      "Stalmaster, 88, credited with securing career-defining roles for actors such as Jeff Bridges, Andy Garcia, Christopher Reeve and John Travolta, is the first casting director to receive an Oscar.\n"
     ]
    }
   ],
   "source": [
    "# read file and make passage into variable\n",
    "\n",
    "para2 = os.path.join('raw_data', 'paragraph_2.txt')\n",
    "\n",
    "with open(para2, 'r') as file:\n",
    "    data2 = file.read()\n",
    "    \n",
    "print(data2)"
   ]
  },
  {
   "cell_type": "code",
   "execution_count": 10,
   "metadata": {},
   "outputs": [],
   "source": [
    "# approximate word count\n",
    "\n",
    "word_list = data2.split()\n",
    "word_ct = len(word_list)"
   ]
  },
  {
   "cell_type": "code",
   "execution_count": 11,
   "metadata": {},
   "outputs": [],
   "source": [
    "# approximate sentence count\n",
    "\n",
    "sent_list = re.split(\"\\n\\n\", data2)\n",
    "sent_ct = len(sent_list)"
   ]
  },
  {
   "cell_type": "code",
   "execution_count": 12,
   "metadata": {},
   "outputs": [],
   "source": [
    "# average letter count (per word)\n",
    "\n",
    "let_ct = [] \n",
    "\n",
    "for word in word_list:\n",
    "    i = 0\n",
    "    for char in word:\n",
    "        i = i + 1\n",
    "    let_ct.append(i)\n",
    "\n",
    "avg_let = round(sum(let_ct)/word_ct, 1)"
   ]
  },
  {
   "cell_type": "code",
   "execution_count": 13,
   "metadata": {},
   "outputs": [],
   "source": [
    "# average sentence length (in words)\n",
    "\n",
    "avg_sent = word_ct/sent_ct"
   ]
  },
  {
   "cell_type": "code",
   "execution_count": 14,
   "metadata": {},
   "outputs": [
    {
     "name": "stdout",
     "output_type": "stream",
     "text": [
      "Paragraph 2 Analysis\n",
      "-----------------\n",
      "Approximate Word Count: 285\n",
      "Approximate Sentence Count: 10\n",
      "Average Letter Count: 5.2\n",
      "Average Sentence Length: 28.5\n"
     ]
    }
   ],
   "source": [
    "print('Paragraph 2 Analysis')\n",
    "print('-----------------')\n",
    "print('Approximate Word Count:', word_ct)\n",
    "print('Approximate Sentence Count:', sent_ct)\n",
    "print('Average Letter Count:', avg_let)\n",
    "print('Average Sentence Length:', avg_sent)"
   ]
  },
  {
   "cell_type": "code",
   "execution_count": 15,
   "metadata": {},
   "outputs": [],
   "source": [
    "# export analysis in text file\n",
    "\n",
    "file = open('analysis_2.txt', 'w')\n",
    "\n",
    "file.write('Paragraph 2 Analysis\\n')\n",
    "file.write('-----------------\\n')\n",
    "file.write('Approximate Word Count: 285\\n')\n",
    "file.write('Approximate Sentence Count: 10\\n')\n",
    "file.write('Average Letter Count: 5.2\\n')\n",
    "file.write('Average Sentence Length: 28.5\\n')\n",
    "\n",
    "file.close()"
   ]
  }
 ],
 "metadata": {
  "kernelspec": {
   "display_name": "Python 3",
   "language": "python",
   "name": "python3"
  },
  "language_info": {
   "codemirror_mode": {
    "name": "ipython",
    "version": 3
   },
   "file_extension": ".py",
   "mimetype": "text/x-python",
   "name": "python",
   "nbconvert_exporter": "python",
   "pygments_lexer": "ipython3",
   "version": "3.7.1"
  }
 },
 "nbformat": 4,
 "nbformat_minor": 2
}
