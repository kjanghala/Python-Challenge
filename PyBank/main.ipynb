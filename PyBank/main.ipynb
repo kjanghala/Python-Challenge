{
 "cells": [
  {
   "cell_type": "code",
   "execution_count": 1,
   "metadata": {},
   "outputs": [],
   "source": [
    "# import dependencies\n",
    "\n",
    "import pandas as pd\n",
    "import numpy as np\n",
    "import os"
   ]
  },
  {
   "cell_type": "code",
   "execution_count": 2,
   "metadata": {},
   "outputs": [
    {
     "data": {
      "text/html": [
       "<div>\n",
       "<style scoped>\n",
       "    .dataframe tbody tr th:only-of-type {\n",
       "        vertical-align: middle;\n",
       "    }\n",
       "\n",
       "    .dataframe tbody tr th {\n",
       "        vertical-align: top;\n",
       "    }\n",
       "\n",
       "    .dataframe thead th {\n",
       "        text-align: right;\n",
       "    }\n",
       "</style>\n",
       "<table border=\"1\" class=\"dataframe\">\n",
       "  <thead>\n",
       "    <tr style=\"text-align: right;\">\n",
       "      <th></th>\n",
       "      <th>Date</th>\n",
       "      <th>Profit/Losses</th>\n",
       "    </tr>\n",
       "  </thead>\n",
       "  <tbody>\n",
       "    <tr>\n",
       "      <th>81</th>\n",
       "      <td>Oct-2016</td>\n",
       "      <td>102685</td>\n",
       "    </tr>\n",
       "    <tr>\n",
       "      <th>82</th>\n",
       "      <td>Nov-2016</td>\n",
       "      <td>795914</td>\n",
       "    </tr>\n",
       "    <tr>\n",
       "      <th>83</th>\n",
       "      <td>Dec-2016</td>\n",
       "      <td>60988</td>\n",
       "    </tr>\n",
       "    <tr>\n",
       "      <th>84</th>\n",
       "      <td>Jan-2017</td>\n",
       "      <td>138230</td>\n",
       "    </tr>\n",
       "    <tr>\n",
       "      <th>85</th>\n",
       "      <td>Feb-2017</td>\n",
       "      <td>671099</td>\n",
       "    </tr>\n",
       "  </tbody>\n",
       "</table>\n",
       "</div>"
      ],
      "text/plain": [
       "        Date  Profit/Losses\n",
       "81  Oct-2016         102685\n",
       "82  Nov-2016         795914\n",
       "83  Dec-2016          60988\n",
       "84  Jan-2017         138230\n",
       "85  Feb-2017         671099"
      ]
     },
     "execution_count": 2,
     "metadata": {},
     "output_type": "execute_result"
    }
   ],
   "source": [
    "# read csv file\n",
    "\n",
    "csvpath = os.path.join(\"Resources\",\"budget_data.csv\")\n",
    "raw_data = pd.read_csv(csvpath)\n",
    "raw_data.tail()"
   ]
  },
  {
   "cell_type": "code",
   "execution_count": 3,
   "metadata": {},
   "outputs": [],
   "source": [
    "# calculate the total number of months included in the dataset\n",
    "\n",
    "total_months = len(raw_data.Date.unique())"
   ]
  },
  {
   "cell_type": "code",
   "execution_count": 4,
   "metadata": {},
   "outputs": [],
   "source": [
    "# calculate the net total amount of \"Profit/Losses\" over the entire period\n",
    "\n",
    "net_total = str(raw_data['Profit/Losses'].sum())"
   ]
  },
  {
   "cell_type": "code",
   "execution_count": 5,
   "metadata": {},
   "outputs": [],
   "source": [
    "# calculate the average of the changes in \"Profit/Losses\" over the entire period\n",
    "\n",
    "data = raw_data\n",
    "data = data.set_index('Date')\n",
    "data['change'] = data.diff()\n",
    "\n",
    "avg_change = str(round(data['change'].sum()/(total_months-1), 2))"
   ]
  },
  {
   "cell_type": "code",
   "execution_count": 6,
   "metadata": {},
   "outputs": [],
   "source": [
    "# calculate change in profits/losses across each row\n",
    "\n",
    "change_df = data.drop(columns = ['Profit/Losses'])\n",
    "change_df = change_df.reset_index()"
   ]
  },
  {
   "cell_type": "code",
   "execution_count": 7,
   "metadata": {},
   "outputs": [],
   "source": [
    "# calculate the greatest increase in profits (date and amount) over the entire period\n",
    "\n",
    "max_change = change_df['change'].max()\n",
    "\n",
    "max_change_mo = str(change_df.loc[change_df['change'] == max_change, 'Date'].iloc[0])\n",
    "max_change_num = str(int(change_df.loc[change_df['change'] == max_change, 'change'].iloc[0]))"
   ]
  },
  {
   "cell_type": "code",
   "execution_count": 8,
   "metadata": {},
   "outputs": [],
   "source": [
    "# calculate the greatest decrease in losses (date and amount) over the entire period\n",
    "\n",
    "min_change = change_df['change'].min()\n",
    "\n",
    "min_change_mo = str(change_df.loc[change_df['change'] == min_change, 'Date'].iloc[0])\n",
    "min_change_num = str(int(change_df.loc[change_df['change'] == min_change, 'change'].iloc[0]))"
   ]
  },
  {
   "cell_type": "code",
   "execution_count": 9,
   "metadata": {},
   "outputs": [
    {
     "name": "stdout",
     "output_type": "stream",
     "text": [
      "Financial Analysis\n",
      "----------------------------\n",
      "Total Months: 86\n",
      "Total: $38382578\n",
      "Average Change: $-2315.12\n",
      "Greatest Increase in Profits: Feb-2012 ($1926159)\n",
      "Greatest Decrease in Profits: Sep-2013 ($-2196167)\n"
     ]
    }
   ],
   "source": [
    "# print analysis in terminal\n",
    "\n",
    "print('Financial Analysis')\n",
    "print('----------------------------')\n",
    "print('Total Months:', total_months)\n",
    "print('Total: $' + net_total)\n",
    "print('Average Change: $' + avg_change)\n",
    "print('Greatest Increase in Profits: ' + max_change_mo + ' ($' + max_change_num + ')')\n",
    "print('Greatest Decrease in Profits: ' + min_change_mo + ' ($' + min_change_num + ')')"
   ]
  },
  {
   "cell_type": "code",
   "execution_count": 10,
   "metadata": {},
   "outputs": [],
   "source": [
    "# export analysis in text file\n",
    "\n",
    "file = open('analysis.txt', 'w')\n",
    "\n",
    "file.write('Financial Analysis\\n')\n",
    "file.write('----------------------------\\n')\n",
    "file.write('Total Months: 86\\n')\n",
    "file.write('Total: $38382578\\n')\n",
    "file.write('Average Change: $-2315.12\\n')\n",
    "file.write('Greatest Increase in Profits: Feb-2012 ($1926159)\\n')\n",
    "file.write('Greatest Decrease in Profits: Sep-2013 ($-2196167)\\n')\n",
    "\n",
    "file.close()"
   ]
  },
  {
   "cell_type": "code",
   "execution_count": null,
   "metadata": {},
   "outputs": [],
   "source": []
  }
 ],
 "metadata": {
  "kernelspec": {
   "display_name": "Python 3",
   "language": "python",
   "name": "python3"
  },
  "language_info": {
   "codemirror_mode": {
    "name": "ipython",
    "version": 3
   },
   "file_extension": ".py",
   "mimetype": "text/x-python",
   "name": "python",
   "nbconvert_exporter": "python",
   "pygments_lexer": "ipython3",
   "version": "3.7.1"
  }
 },
 "nbformat": 4,
 "nbformat_minor": 2
}
