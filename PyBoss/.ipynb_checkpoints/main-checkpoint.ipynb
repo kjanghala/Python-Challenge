{
 "cells": [
  {
   "cell_type": "code",
   "execution_count": 1,
   "metadata": {},
   "outputs": [],
   "source": [
    "# import dependencies\n",
    "\n",
    "import pandas as pd\n",
    "import numpy as np\n",
    "import datetime"
   ]
  },
  {
   "cell_type": "code",
   "execution_count": 2,
   "metadata": {},
   "outputs": [
    {
     "data": {
      "text/html": [
       "<div>\n",
       "<style scoped>\n",
       "    .dataframe tbody tr th:only-of-type {\n",
       "        vertical-align: middle;\n",
       "    }\n",
       "\n",
       "    .dataframe tbody tr th {\n",
       "        vertical-align: top;\n",
       "    }\n",
       "\n",
       "    .dataframe thead th {\n",
       "        text-align: right;\n",
       "    }\n",
       "</style>\n",
       "<table border=\"1\" class=\"dataframe\">\n",
       "  <thead>\n",
       "    <tr style=\"text-align: right;\">\n",
       "      <th></th>\n",
       "      <th>Emp ID</th>\n",
       "      <th>Name</th>\n",
       "      <th>DOB</th>\n",
       "      <th>SSN</th>\n",
       "      <th>State</th>\n",
       "    </tr>\n",
       "  </thead>\n",
       "  <tbody>\n",
       "    <tr>\n",
       "      <th>0</th>\n",
       "      <td>232</td>\n",
       "      <td>John Mathews</td>\n",
       "      <td>1991-02-24</td>\n",
       "      <td>289-31-9165</td>\n",
       "      <td>North Dakota</td>\n",
       "    </tr>\n",
       "    <tr>\n",
       "      <th>1</th>\n",
       "      <td>533</td>\n",
       "      <td>Nathan Moore</td>\n",
       "      <td>1978-11-19</td>\n",
       "      <td>220-05-7469</td>\n",
       "      <td>Maine</td>\n",
       "    </tr>\n",
       "    <tr>\n",
       "      <th>2</th>\n",
       "      <td>256</td>\n",
       "      <td>Amanda Douglas</td>\n",
       "      <td>1990-01-08</td>\n",
       "      <td>564-27-6961</td>\n",
       "      <td>Idaho</td>\n",
       "    </tr>\n",
       "    <tr>\n",
       "      <th>3</th>\n",
       "      <td>189</td>\n",
       "      <td>Heather Andrews</td>\n",
       "      <td>1976-08-11</td>\n",
       "      <td>742-79-1797</td>\n",
       "      <td>Vermont</td>\n",
       "    </tr>\n",
       "    <tr>\n",
       "      <th>4</th>\n",
       "      <td>284</td>\n",
       "      <td>Daniel Hernandez</td>\n",
       "      <td>1976-07-22</td>\n",
       "      <td>656-01-7473</td>\n",
       "      <td>Colorado</td>\n",
       "    </tr>\n",
       "  </tbody>\n",
       "</table>\n",
       "</div>"
      ],
      "text/plain": [
       "   Emp ID              Name         DOB          SSN         State\n",
       "0     232      John Mathews  1991-02-24  289-31-9165  North Dakota\n",
       "1     533      Nathan Moore  1978-11-19  220-05-7469         Maine\n",
       "2     256    Amanda Douglas  1990-01-08  564-27-6961         Idaho\n",
       "3     189   Heather Andrews  1976-08-11  742-79-1797       Vermont\n",
       "4     284  Daniel Hernandez  1976-07-22  656-01-7473      Colorado"
      ]
     },
     "execution_count": 2,
     "metadata": {},
     "output_type": "execute_result"
    }
   ],
   "source": [
    "# read csv file\n",
    "\n",
    "raw_data = pd.read_csv('employee_data.csv')\n",
    "raw_data.head()"
   ]
  },
  {
   "cell_type": "code",
   "execution_count": 3,
   "metadata": {},
   "outputs": [],
   "source": [
    "# split name column into separate first name and last name columns\n",
    "\n",
    "first = []\n",
    "last = []\n",
    "\n",
    "for name in raw_data['Name']:\n",
    "    first.append(name.split()[0])\n",
    "    last.append(name.split()[1])\n",
    "    \n",
    "raw_data['First Name'] = first\n",
    "raw_data['Last Name'] = last"
   ]
  },
  {
   "cell_type": "code",
   "execution_count": 4,
   "metadata": {},
   "outputs": [],
   "source": [
    "# rewrite DOB into MM/DD/YYYY format\n",
    "\n",
    "new_dob = []\n",
    "\n",
    "for dob in raw_data['DOB']:\n",
    "    dob = datetime.datetime.strptime(dob, '%Y-%m-%d').strftime('%m/%d/%Y')\n",
    "    new_dob.append(dob)\n",
    "\n",
    "raw_data['DOB'] = new_dob"
   ]
  },
  {
   "cell_type": "code",
   "execution_count": 5,
   "metadata": {},
   "outputs": [],
   "source": [
    "# hide the first five numbers in the SSN data\n",
    "\n",
    "new_ssn = []\n",
    "\n",
    "for ssn in raw_data['SSN']:\n",
    "    ssn = ssn.replace(ssn[0:6], '***-**')\n",
    "    new_ssn.append(ssn)\n",
    "\n",
    "raw_data['SSN'] = new_ssn"
   ]
  },
  {
   "cell_type": "code",
   "execution_count": 6,
   "metadata": {},
   "outputs": [],
   "source": [
    "# rewrite state as two-letter abbreviations\n",
    "\n",
    "from us_state_abbrev import us_state_abbrev\n",
    "\n",
    "abb_state = []\n",
    "\n",
    "for state in raw_data['State']:\n",
    "    state = us_state_abbrev[state]\n",
    "    abb_state.append(state)\n",
    "\n",
    "raw_data['State'] = state"
   ]
  },
  {
   "cell_type": "code",
   "execution_count": 7,
   "metadata": {},
   "outputs": [
    {
     "data": {
      "text/html": [
       "<div>\n",
       "<style scoped>\n",
       "    .dataframe tbody tr th:only-of-type {\n",
       "        vertical-align: middle;\n",
       "    }\n",
       "\n",
       "    .dataframe tbody tr th {\n",
       "        vertical-align: top;\n",
       "    }\n",
       "\n",
       "    .dataframe thead th {\n",
       "        text-align: right;\n",
       "    }\n",
       "</style>\n",
       "<table border=\"1\" class=\"dataframe\">\n",
       "  <thead>\n",
       "    <tr style=\"text-align: right;\">\n",
       "      <th></th>\n",
       "      <th>Emp ID</th>\n",
       "      <th>First Name</th>\n",
       "      <th>Last Name</th>\n",
       "      <th>DOB</th>\n",
       "      <th>SSN</th>\n",
       "      <th>State</th>\n",
       "    </tr>\n",
       "  </thead>\n",
       "  <tbody>\n",
       "    <tr>\n",
       "      <th>0</th>\n",
       "      <td>232</td>\n",
       "      <td>John</td>\n",
       "      <td>Mathews</td>\n",
       "      <td>02/24/1991</td>\n",
       "      <td>***-**-9165</td>\n",
       "      <td>OR</td>\n",
       "    </tr>\n",
       "    <tr>\n",
       "      <th>1</th>\n",
       "      <td>533</td>\n",
       "      <td>Nathan</td>\n",
       "      <td>Moore</td>\n",
       "      <td>11/19/1978</td>\n",
       "      <td>***-**-7469</td>\n",
       "      <td>OR</td>\n",
       "    </tr>\n",
       "    <tr>\n",
       "      <th>2</th>\n",
       "      <td>256</td>\n",
       "      <td>Amanda</td>\n",
       "      <td>Douglas</td>\n",
       "      <td>01/08/1990</td>\n",
       "      <td>***-**-6961</td>\n",
       "      <td>OR</td>\n",
       "    </tr>\n",
       "    <tr>\n",
       "      <th>3</th>\n",
       "      <td>189</td>\n",
       "      <td>Heather</td>\n",
       "      <td>Andrews</td>\n",
       "      <td>08/11/1976</td>\n",
       "      <td>***-**-1797</td>\n",
       "      <td>OR</td>\n",
       "    </tr>\n",
       "    <tr>\n",
       "      <th>4</th>\n",
       "      <td>284</td>\n",
       "      <td>Daniel</td>\n",
       "      <td>Hernandez</td>\n",
       "      <td>07/22/1976</td>\n",
       "      <td>***-**-7473</td>\n",
       "      <td>OR</td>\n",
       "    </tr>\n",
       "  </tbody>\n",
       "</table>\n",
       "</div>"
      ],
      "text/plain": [
       "   Emp ID First Name  Last Name         DOB          SSN State\n",
       "0     232       John    Mathews  02/24/1991  ***-**-9165    OR\n",
       "1     533     Nathan      Moore  11/19/1978  ***-**-7469    OR\n",
       "2     256     Amanda    Douglas  01/08/1990  ***-**-6961    OR\n",
       "3     189    Heather    Andrews  08/11/1976  ***-**-1797    OR\n",
       "4     284     Daniel  Hernandez  07/22/1976  ***-**-7473    OR"
      ]
     },
     "execution_count": 7,
     "metadata": {},
     "output_type": "execute_result"
    }
   ],
   "source": [
    "# reorder and remove old columns from dataframe\n",
    "\n",
    "cleaned = raw_data.drop(columns = ['Name'])\n",
    "cleaned = cleaned[['Emp ID','First Name','Last Name','DOB','SSN','State']]\n",
    "\n",
    "cleaned.head()"
   ]
  },
  {
   "cell_type": "code",
   "execution_count": 8,
   "metadata": {},
   "outputs": [],
   "source": [
    "# export new data file\n",
    "\n",
    "cleaned.to_csv('new_employee_data.csv')"
   ]
  },
  {
   "cell_type": "code",
   "execution_count": null,
   "metadata": {},
   "outputs": [],
   "source": []
  }
 ],
 "metadata": {
  "kernelspec": {
   "display_name": "Python 3",
   "language": "python",
   "name": "python3"
  },
  "language_info": {
   "codemirror_mode": {
    "name": "ipython",
    "version": 3
   },
   "file_extension": ".py",
   "mimetype": "text/x-python",
   "name": "python",
   "nbconvert_exporter": "python",
   "pygments_lexer": "ipython3",
   "version": "3.7.1"
  }
 },
 "nbformat": 4,
 "nbformat_minor": 2
}
